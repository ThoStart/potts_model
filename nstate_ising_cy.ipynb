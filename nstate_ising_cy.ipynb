{
 "cells": [
  {
   "cell_type": "code",
   "execution_count": 2,
   "metadata": {},
   "outputs": [],
   "source": [
    "%load_ext Cython\n",
    "import networkx as nx\n",
    "import matplotlib.pyplot as plt\n",
    "import numpy as np"
   ]
  },
  {
   "cell_type": "code",
   "execution_count": 295,
   "metadata": {},
   "outputs": [],
   "source": [
    "%%cython\n",
    "cimport cython\n",
    "\n",
    "import numpy as np\n",
    "cimport numpy as np\n",
    "import networkx as nx\n",
    "\n",
    "cpdef tuple initialize_lattice(int L, int states):\n",
    "    '''Inititalizes a lattice graph including states and an adjency matrix'''\n",
    "    # initialize matrix s.t. an adjency matrix can be made\n",
    "    G = nx.grid_2d_graph(L,L)\n",
    "    cdef int length = len(G.nodes())\n",
    "    \n",
    "    # assign random state to each node and put in array\n",
    "    cdef np.ndarray G2 = np.random.randint(low=0, high=states, size=length)\n",
    "#     cdef np.ndarray G2 = np.array((np.random.randint(low=0, high=states, size=length), np.random.random(size=length)))\n",
    "    cdef np.ndarray A = nx.adjacency_matrix(G).todense()\n",
    "    \n",
    "    return G2, A\n",
    "\n",
    "cdef np.ndarray neighbors(A, node):\n",
    "    '''Return an numpy array containing the neighbors of a node'''\n",
    "    cdef np.ndarray nb = np.where(A[node]==1)[1]\n",
    "    return nb\n",
    "\n",
    "cdef np.ndarray init_J(int states):\n",
    "    '''Interaction matrix initialization'''\n",
    "    cdef np.ndarray J\n",
    "    \n",
    "    if states == 2: # A <-> A , B <-> B\n",
    "        J = np.array([[1, 0],\\\n",
    "                      [0, 1]])\n",
    "        \n",
    "    elif states == 3: # A <-> B <-> C\n",
    "        J = np.array([[0, 1, 0],\\\n",
    "                      [1, 0, 1],\\\n",
    "                      [0, 1, 0]])\n",
    "        \n",
    "    elif states == 4: # A <-> B <-> C <-> D\n",
    "        J = np.array([[0, 1, 0, 0],\\\n",
    "                      [1, 0, 1, 0],\\\n",
    "                      [0, 1, 0, 1],\\\n",
    "                      [0, 0, 1, 0]])\n",
    "    return J\n",
    "\n",
    "cdef float hamiltonian(G, int node, np.ndarray nb, np.ndarray J):\n",
    "    '''\n",
    "    Hamiltonian function: Calculate the energy for each bond of a single node\n",
    "    , return the sum of these energies\n",
    "\n",
    "    H: Hamiltonian\n",
    "    cur_node: investigated current node\n",
    "    cur_nb: investigated current neighbor\n",
    "    kronecker (not used): 1 if two nodes are in same state\n",
    "    '''\n",
    "    cdef float H = 0\n",
    "    cdef int cur_node = G[node]\n",
    "    cdef int cur_nb\n",
    "    cdef int kronecker\n",
    "    \n",
    "    # loop through all neighbors\n",
    "    for i in range(len(nb)):\n",
    "        cur_nb = G[nb[i]]\n",
    "        kronecker = 0\n",
    "        \n",
    "        # check if states are the same\n",
    "        if cur_node == cur_nb:\n",
    "            kronecker = 1\n",
    "#         H += -1 * (1 - kronecker) #J[cur_node, cur_nb]) # * V[]\n",
    "#         H -= 1 * (1 - J[cur_node, cur_nb]) # * V[]\n",
    "        H -= J[cur_node, cur_nb]\n",
    "    return H\n",
    "    \n",
    "cdef metropolis(G, A, J, int states, float beta, int time, float system_hamiltonian):\n",
    "    '''\n",
    "    Performs all metropolis algorithm steps.\n",
    "    \n",
    "    Difference in energy is - (H2 (new state) - H1 (old state)) .\n",
    "    System hamiltonian and magnetization is changed.\n",
    "    TODO: Check system magnetization \n",
    "    '''\n",
    "    cdef int rand_node\n",
    "    cdef int spin\n",
    "    cdef float dE = 0\n",
    "    cdef int rand_state\n",
    "    cdef float p\n",
    "    cdef float H1 \n",
    "    cdef float H2\n",
    "    cdef list sh = []\n",
    "    cdef list fm = []\n",
    "\n",
    "    fm.append(G.mean())\n",
    "    for t in range(time):    \n",
    "        for i in range(len(G)):\n",
    "            # pick random node\n",
    "            rand_node = np.random.randint(len(G)-1)\n",
    "            spin = G[rand_node]\n",
    "            \n",
    "            rand_state = np.random.randint(states)\n",
    "            while rand_state == spin:\n",
    "                rand_state = np.random.randint(states)\n",
    "            \n",
    "            # calculate hamiltonian for current configuration\n",
    "            nb = neighbors(A, rand_node)\n",
    "            H1 = hamiltonian(G, rand_node, nb, J)\n",
    "            \n",
    "            # calculate hamiltonian for new configuration\n",
    "            G_copy = G.copy()\n",
    "            G_copy[rand_node] = rand_state\n",
    "            H2 = hamiltonian(G_copy, rand_node, nb, J)\n",
    "\n",
    "            # calculate energy difference\n",
    "            dE = (H2 - H1)\n",
    "                        \n",
    "            # energy may always be decreased\n",
    "            if dE <= 0:\n",
    "                p = 1   \n",
    "                \n",
    "            # probability proportional to Boltzmann distribution.\n",
    "            else: \n",
    "                p = np.exp(-beta*dE)\n",
    "                \n",
    "            # energy is increased with probability\n",
    "            if np.random.random() <= p:\n",
    "                G[rand_node] = rand_state\n",
    "                system_hamiltonian += dE\n",
    "                \n",
    "            # change configuration back to the original\n",
    "            else: \n",
    "                G[rand_node] = spin\n",
    "    \n",
    "            sh.append(system_hamiltonian)\n",
    "            fm.append(G.mean())\n",
    "\n",
    "    return G, sh, fm\n",
    "\n",
    "cdef float full_hamiltonian(G, A, J):\n",
    "    '''\n",
    "    Returns the energy state of the system.\n",
    "    '''\n",
    "    cdef float system_hamiltonian = 0 \n",
    "    for i in range(len(G)):\n",
    "        nb = neighbors(A, i)\n",
    "        system_hamiltonian += hamiltonian(G, G[i], nb, J) \n",
    "    return 0.5 * system_hamiltonian\n",
    "\n",
    "cdef float full_magnetization(G, A, J):\n",
    "    '''\n",
    "    TODO\n",
    "    Returns magnetization state of the system.\n",
    "    '''\n",
    "    cdef float magnetisation = 0\n",
    "    for i in range(len(G)):\n",
    "        magnetisation += G[i]\n",
    "    \n",
    "    magnetisation = magnetisation / len(G)\n",
    "    return magnetisation\n",
    "\n",
    "def simulate(T, states):\n",
    "    G, A = initialize_lattice(12, states)\n",
    "    G_init = G.copy()\n",
    "    J = init_J(states)    \n",
    "    sh = full_hamiltonian(G,A,J)        \n",
    "    beta = 1 / T# * (138064852 * 10**-23)\n",
    "    timesteps = 100\n",
    "    M, system_hamiltonian, fm = metropolis(G, A, J, states, beta, timesteps, sh)\n",
    "    print(full_hamiltonian(M, A, J))\n",
    "    return G_init, M, system_hamiltonian, J, fm\n",
    "\n",
    "def test():\n",
    "    G, A = initialize_lattice(3, 3)\n",
    "    G_init = G.copy()\n",
    "    J = init_J(3) \n",
    "    print(G_init.reshape(3,3))\n",
    "    print(full_hamiltonian(G_init,A,J)) "
   ]
  },
  {
   "cell_type": "code",
   "execution_count": 303,
   "metadata": {
    "scrolled": false
   },
   "outputs": [
    {
     "name": "stdout",
     "output_type": "stream",
     "text": [
      "-240.0\n",
      "1.0833333333333333\n"
     ]
    },
    {
     "data": {
      "image/png": "[encoded data removed]",
      "text/plain": [
       "<Figure size 432x288 with 1 Axes>"
      ]
     },
     "metadata": {
      "needs_background": "light"
     },
     "output_type": "display_data"
    }
   ],
   "source": [
    "G_init, M, system_hamiltonian, J, fm = simulate(0.01, 3)\n",
    "t = np.arange(0, len(system_hamiltonian))\n",
    "# plt.plot(t, sh2, color='blue')\n",
    "plt.plot(system_hamiltonian, color='red')\n",
    "print(fm[-1])"
   ]
  },
  {
   "cell_type": "code",
   "execution_count": 304,
   "metadata": {},
   "outputs": [
    {
     "data": {
      "text/plain": [
       "array([[0, 0, 2, 1, 1, 1, 1, 1, 0, 0, 1, 0],\n",
       "       [1, 2, 1, 0, 1, 2, 1, 1, 0, 0, 0, 1],\n",
       "       [1, 1, 0, 1, 0, 2, 1, 1, 2, 2, 2, 1],\n",
       "       [0, 1, 1, 1, 2, 2, 1, 0, 2, 0, 1, 2],\n",
       "       [0, 2, 1, 0, 0, 0, 0, 1, 2, 1, 0, 1],\n",
       "       [2, 0, 2, 2, 2, 0, 0, 0, 1, 0, 1, 0],\n",
       "       [2, 2, 1, 2, 0, 2, 0, 1, 1, 0, 2, 0],\n",
       "       [1, 1, 1, 2, 0, 1, 1, 1, 0, 2, 0, 2],\n",
       "       [2, 1, 1, 0, 0, 1, 1, 2, 0, 1, 1, 0],\n",
       "       [0, 2, 0, 2, 2, 0, 2, 2, 2, 0, 2, 1],\n",
       "       [2, 0, 2, 2, 1, 1, 1, 0, 0, 0, 1, 0],\n",
       "       [1, 0, 1, 0, 1, 0, 1, 2, 0, 0, 1, 2]])"
      ]
     },
     "execution_count": 304,
     "metadata": {},
     "output_type": "execute_result"
    }
   ],
   "source": [
    "G_init.reshape(12,12)"
   ]
  },
  {
   "cell_type": "code",
   "execution_count": 305,
   "metadata": {},
   "outputs": [
    {
     "data": {
      "text/plain": [
       "array([[0, 1, 2, 1, 0, 1, 2, 1, 0, 1, 0, 1],\n",
       "       [1, 2, 1, 0, 1, 2, 1, 0, 1, 2, 1, 2],\n",
       "       [0, 1, 2, 1, 0, 1, 2, 1, 2, 1, 2, 1],\n",
       "       [1, 2, 1, 2, 1, 2, 1, 2, 1, 0, 1, 0],\n",
       "       [1, 0, 1, 0, 1, 2, 1, 2, 1, 0, 1, 2],\n",
       "       [2, 1, 2, 1, 2, 1, 0, 1, 0, 1, 0, 1],\n",
       "       [1, 2, 1, 0, 1, 0, 1, 2, 1, 0, 1, 2],\n",
       "       [0, 1, 0, 1, 2, 1, 2, 1, 2, 1, 2, 1],\n",
       "       [1, 2, 1, 2, 1, 2, 1, 2, 1, 2, 1, 2],\n",
       "       [0, 1, 0, 1, 2, 1, 2, 1, 2, 1, 2, 1],\n",
       "       [0, 1, 2, 1, 0, 1, 2, 1, 0, 1, 2, 1],\n",
       "       [1, 0, 1, 0, 1, 0, 1, 2, 1, 0, 1, 2]])"
      ]
     },
     "execution_count": 305,
     "metadata": {},
     "output_type": "execute_result"
    }
   ],
   "source": [
    "M.reshape(12,12)"
   ]
  },
  {
   "cell_type": "code",
   "execution_count": 217,
   "metadata": {},
   "outputs": [],
   "source": [
    "#plt.imshow(M.reshape(12,12))"
   ]
  },
  {
   "cell_type": "code",
   "execution_count": 238,
   "metadata": {
    "scrolled": false
   },
   "outputs": [
    {
     "name": "stdout",
     "output_type": "stream",
     "text": [
      "3\n"
     ]
    }
   ],
   "source": [
    "temperatures = np.linspace(0.01, 50, 10) #[0.1, 1, 2, 4, 10]\n",
    "temperatures = np.logspace(0.01, 10, 10)\n",
    "states = [3]\n",
    "runs = np.arange(0, 10, 1)\n",
    "\n",
    "info_runs = np.zeros((len(states)*len(temperatures), 2))\n",
    "avg_runs = np.zeros((len(runs)*len(states)*len(temperatures), 14400))\n",
    "vc_satisfaction = np.zeros((len(runs)*len(states)*len(temperatures), 144))\n",
    "\n",
    "\n",
    "def perform_tests(temperatures, states):\n",
    "    '''\n",
    "    Perform multiple simulations with different temperatures and states.\n",
    "    Saves the system-hamiltonian per step of multiple runs.\n",
    "    '''\n",
    "    i = 0\n",
    "    j = 0\n",
    "    for state in states:\n",
    "        print(state)\n",
    "        for temp in temperatures:\n",
    "            info_runs[j] = state, temp \n",
    "            j += 1\n",
    "            for run in runs:\n",
    "                G_init, M, system_hamiltonian, J, fm = simulate(temp, state)    \n",
    "                avg_runs[i] = system_hamiltonian\n",
    "                vc_satisfaction[i] = M\n",
    "                i += 1\n",
    "    return info_runs, avg_runs\n",
    "\n",
    "info_runs, avg_runs = perform_tests(temperatures, states)"
   ]
  },
  {
   "cell_type": "code",
   "execution_count": 239,
   "metadata": {
    "scrolled": false
   },
   "outputs": [],
   "source": [
    "avg = np.zeros((avg_runs.shape[1]))\n",
    "std = np.zeros((avg_runs.shape[1]))\n",
    "minm = np.zeros((avg_runs.shape[1]))\n",
    "maxm = np.zeros((avg_runs.shape[1]))\n",
    "\n",
    "i = 0\n",
    "start = 0\n",
    "stop = runs.shape[0]\n",
    "\n",
    "list_of_avg_end = []\n",
    "plot = False\n",
    "\n",
    "for k in range(len(states)*len(temperatures)):\n",
    "    for i in range(avg_runs.shape[1]):\n",
    "        avg[i] = np.mean(avg_runs[start:stop, i])\n",
    "        std[i] = np.std(avg_runs[start:stop, i])\n",
    "        minm[i] = np.amin(avg_runs[start:stop, i])\n",
    "        maxm[i] = np.amax(avg_runs[start:stop, i])\n",
    "\n",
    "    x = np.arange(0, avg_runs.shape[1])\n",
    "    y = avg\n",
    "    list_of_avg_end.append([info_runs[k][0], info_runs[k][1], avg[-1]])\n",
    "    \n",
    "    if plot == True:\n",
    "        plt.plot(x,y, 'k-')\n",
    "        plt.fill_between(x, y+std, y-std)\n",
    "        plt.xlabel('timestep')\n",
    "        plt.ylabel('sum of bond energies')\n",
    "        plt.title('Temperature = '+ str(info_runs[k][1]) +' States = '+ str(info_runs[k][0]))\n",
    "        plt.savefig('/home/thomas/Thesis/code/Potts/experiments/Hamiltonian plot, T=' + str(info_runs[k][1]) + 'states='+ str(info_runs[k][0]) +'.png', dpi=100)\n",
    "        plt.show()\n",
    "    \n",
    "    start = stop + 1\n",
    "    stop = stop + runs.shape[0]"
   ]
  },
  {
   "cell_type": "code",
   "execution_count": 240,
   "metadata": {
    "scrolled": false
   },
   "outputs": [],
   "source": [
    "temp2 = []\n",
    "last2 = []\n",
    "temp3 = []\n",
    "last3 = []\n",
    "temp4 = []\n",
    "last4 = []\n",
    "\n",
    "for i in list_of_avg_end:\n",
    "    if i[0] == 2:\n",
    "        last2.append(i[2])\n",
    "        temp2.append(i[1])\n",
    "        \n",
    "    if i[0] == 3:\n",
    "        last3.append(i[2])\n",
    "        temp3.append(i[1])\n",
    "        \n",
    "    if i[0] == 4:\n",
    "        last4.append(i[2])\n",
    "        temp4.append(i[1])"
   ]
  },
  {
   "cell_type": "code",
   "execution_count": 241,
   "metadata": {
    "scrolled": true
   },
   "outputs": [
    {
     "data": {
      "text/plain": [
       "Text(0, 0.5, 'Sum of bond energies')"
      ]
     },
     "execution_count": 241,
     "metadata": {},
     "output_type": "execute_result"
    },
    {
     "data": {
      "image/png": "[encoded data removed]",
      "text/plain": [
       "<Figure size 432x288 with 1 Axes>"
      ]
     },
     "metadata": {
      "needs_background": "light"
     },
     "output_type": "display_data"
    }
   ],
   "source": [
    "plt.plot(temp2, last2, label='2 states')\n",
    "plt.plot(temp3, last3, label='3 states')\n",
    "plt.plot(temp4, last4, label='4 states')\n",
    "plt.legend()\n",
    "plt.xlabel('Temperature')\n",
    "plt.ylabel('Sum of bond energies')"
   ]
  },
  {
   "cell_type": "code",
   "execution_count": 231,
   "metadata": {},
   "outputs": [],
   "source": [
    "# unused code for plotting\n",
    "if plot == True:\n",
    "    # save 3 figures\n",
    "    fig, axs = plt.subplots(2)\n",
    "    fig.suptitle('T={}, states={}'.format(temp, state))\n",
    "    pos = axs[0].imshow(G_init.reshape(12, 12), cmap='Blues')\n",
    "    fig.colorbar(pos)\n",
    "    pos = axs[1].imshow(M.reshape(12,12), cmap='Blues')\n",
    "    fig.colorbar(pos)\n",
    "    plt.savefig('/home/thomas/Thesis/code/Potts/experiments/T=' + str(temp) + 'states='+ str(state) +'.png', dpi=100)\n",
    "#             plt.show()\n",
    "\n",
    "    fig, axs = plt.subplots(1)\n",
    "    fig.suptitle('T={}, states={}'.format(temp, state))\n",
    "    axs.plot(t, system_hamiltonian)\n",
    "    plt.savefig('/home/thomas/Thesis/code/Potts/experiments/Hamiltonian plot, T=' + str(temp) + 'states='+ str(state) +'.png', dpi=100)\n",
    "#             plt.show()"
   ]
  },
  {
   "cell_type": "code",
   "execution_count": null,
   "metadata": {},
   "outputs": [],
   "source": []
  },
  {
   "cell_type": "code",
   "execution_count": null,
   "metadata": {},
   "outputs": [],
   "source": []
  }
 ],
 "metadata": {
  "kernelspec": {
   "display_name": "Python 3",
   "language": "python",
   "name": "python3"
  },
  "language_info": {
   "codemirror_mode": {
    "name": "ipython",
    "version": 3
   },
   "file_extension": ".py",
   "mimetype": "text/x-python",
   "name": "python",
   "nbconvert_exporter": "python",
   "pygments_lexer": "ipython3",
   "version": "3.8.3"
  }
 },
 "nbformat": 4,
 "nbformat_minor": 4
}
