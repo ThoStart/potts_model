{
 "cells": [
  {
   "cell_type": "code",
   "execution_count": 281,
   "metadata": {},
   "outputs": [
    {
     "name": "stdout",
     "output_type": "stream",
     "text": [
      "The Cython extension is already loaded. To reload it, use:\n",
      "  %reload_ext Cython\n"
     ]
    }
   ],
   "source": [
    "%load_ext Cython\n",
    "import networkx as nx\n",
    "import matplotlib.pyplot as plt\n",
    "import numpy as np"
   ]
  },
  {
   "cell_type": "code",
   "execution_count": 984,
   "metadata": {},
   "outputs": [],
   "source": [
    "%%cython\n",
    "cimport cython\n",
    "\n",
    "import numpy as np\n",
    "cimport numpy as np\n",
    "import networkx as nx\n",
    "\n",
    "cpdef tuple initialize_lattice(int L, int states):\n",
    "    '''Inititalizes a lattice graph including states and an adjency matrix'''\n",
    "    # initialize matrix s.t. an adjency matrix can be made\n",
    "    G = nx.grid_2d_graph(L,L)\n",
    "    cdef int length = len(G.nodes())\n",
    "    \n",
    "    # assign random state to each node and put in array\n",
    "    cdef np.ndarray G2 = np.random.randint(low=0, high=states, size=length)\n",
    "#     cdef np.ndarray G2 = np.array((np.random.randint(low=0, high=states, size=length), np.random.random(size=length)))\n",
    "    cdef np.ndarray A = nx.adjacency_matrix(G).todense()\n",
    "    \n",
    "    return G2, A\n",
    "\n",
    "cdef np.ndarray neighbors(A, node):\n",
    "    '''Return an numpy array containing the neighbors of a node'''\n",
    "    cdef np.ndarray nb = np.where(A[node]==1)[1]\n",
    "    return nb\n",
    "\n",
    "cdef np.ndarray init_J(int states):\n",
    "    '''Interaction matrix initialization'''\n",
    "    cdef np.ndarray J = np.array([[1, 0],[0, 1]])\n",
    "#     J = np.random.randint(states, size=(states, states))    \n",
    "    return J\n",
    "\n",
    "cdef float hamiltonian(G, int node, np.ndarray nb, np.ndarray J):\n",
    "    '''\n",
    "    Hamiltonian function: Calculate the energy for each bond of a single node\n",
    "    , return the sum of these energies\n",
    "\n",
    "    H: Hamiltonian\n",
    "    cur_node: investigated current node\n",
    "    cur_nb: investigated current neighbor\n",
    "    kronecker (not used): 1 if two nodes are in same state\n",
    "    '''\n",
    "    cdef float H = 0\n",
    "    cdef int cur_node = G[node]\n",
    "    cdef int cur_nb\n",
    "    cdef int kronecker\n",
    "    \n",
    "    # loop through all neighbors\n",
    "    for i in range(len(nb)):\n",
    "        cur_nb = G[nb[i]]\n",
    "        kronecker = 0\n",
    "        \n",
    "        # check if states are the same\n",
    "#         if cur_node == cur_nb:\n",
    "#             kronecker = 1\n",
    "        H += J[cur_node, cur_nb] * (1 - kronecker)\n",
    "\n",
    "    return H\n",
    "    \n",
    "cdef metropolis(G, A, J, int states, float beta, int time, float system_hamiltonian):\n",
    "    '''\n",
    "    Performs all metropolis algorithm steps.\n",
    "    \n",
    "    Difference in energy is - (H2 (new state) - H1 (old state)) .\n",
    "    System hamiltonian and magnetization is changed.\n",
    "    TODO: Check system magnetization \n",
    "    '''\n",
    "    cdef int rand_node\n",
    "    cdef int spin\n",
    "    cdef float dE = 0\n",
    "    cdef int rand_state\n",
    "    cdef float p\n",
    "    cdef float H1 \n",
    "    cdef float H2\n",
    "    cdef list sh = []\n",
    "    cdef list mg = []\n",
    "    \n",
    "    fm = full_magnetization(G, A, J)\n",
    "\n",
    "    for t in range(time):    \n",
    "        for i in range(len(G)-1):\n",
    "            # pick random node\n",
    "            rand_node = np.random.randint(len(G)-1)\n",
    "            spin = G[rand_node]\n",
    "            \n",
    "            rand_state = np.random.randint(states)\n",
    "            while rand_state == spin:\n",
    "                rand_state = np.random.randint(states)\n",
    "            \n",
    "            # calculate hamiltonian for current configuration\n",
    "            nb = neighbors(A, rand_node)\n",
    "            H1 = hamiltonian(G, rand_node, nb, J)\n",
    "            \n",
    "            # calculate hamiltonian for new configuration\n",
    "            G_copy = G.copy()\n",
    "            G_copy[rand_node] = rand_state\n",
    "            H2 = hamiltonian(G_copy, rand_node, nb, J)\n",
    "\n",
    "            # calculate energy difference\n",
    "            dE = -(H2 - H1) \n",
    "            \n",
    "            # energy may always be decreased\n",
    "            if dE <= 0:\n",
    "                p = 1   \n",
    "                \n",
    "            # probability proportional to Boltzmann distribution.\n",
    "            else: \n",
    "                p = np.exp(-beta*dE)\n",
    "                \n",
    "            # energy is increased with probability\n",
    "            if np.random.random() <= p:\n",
    "                G[rand_node] = rand_state \n",
    "                system_hamiltonian += dE\n",
    "            # change configuration back to the original\n",
    "            else: \n",
    "                G[rand_node] = spin\n",
    "            \n",
    "            mg.append(full_magnetization(G, A, J))\n",
    "            sh.append(system_hamiltonian)\n",
    "\n",
    "    return G, sh, mg\n",
    "\n",
    "cdef float full_hamiltonian(G, A, J):\n",
    "    '''\n",
    "    Returns the energy state of the system.\n",
    "    '''\n",
    "    cdef float system_hamiltonian = 0 \n",
    "    for i in range(len(G)):\n",
    "        nb = neighbors(A, i)\n",
    "        system_hamiltonian += hamiltonian(G, G[i], nb, J) \n",
    "        \n",
    "    return 0.5 * system_hamiltonian\n",
    "\n",
    "cdef float full_magnetization(G, A, J):\n",
    "    '''\n",
    "    TODO\n",
    "    Returns magnetization state of the system.\n",
    "    '''\n",
    "    cdef float magnetisation = 0\n",
    "    for i in range(len(G)):\n",
    "        magnetisation += G[i]\n",
    "    \n",
    "    magnetisation = magnetisation / len(G)\n",
    "    return magnetisation\n",
    "\n",
    "def simulate(T):\n",
    "    G, A = initialize_lattice(10, 2)\n",
    "    G_init = G.copy()\n",
    "    J = init_J(2)    \n",
    "    sh = full_hamiltonian(G,A,J)        \n",
    "    beta = 1 / T #* 1.348*(10**-23)\n",
    "    timesteps = 40\n",
    "    M, system_hamiltonian, mg = metropolis(G, A, J, 2, beta, timesteps, sh)\n",
    "    sh = full_hamiltonian(M,A,J)\n",
    "    return G_init, M, system_hamiltonian, J, mg\n",
    "\n",
    "## To Ask; is kronecker needed/necessary?\n",
    "\n",
    "'''\n",
    "TO DO:\n",
    "- experiment with beta parameter :  1 / T ?\n",
    "- save and change system hamiltonian\n",
    "- write everything to a class\n",
    "- experiment with differen J matrices\n",
    "- experiment with the absence of kronecker\n",
    "- make plots of system hamiltonian per temperature\n",
    "\n",
    "To Ask:\n",
    "- wat is en hoe werkt een partition function\n",
    "- probability calculation\n",
    "- doe ik de 1/T goed?\n",
    "- fermi-dirac? ik zie niet waar glauber zit\n",
    "- is kronecker needed?\n",
    "\n",
    "'''\n"
   ]
  },
  {
   "cell_type": "code",
   "execution_count": 988,
   "metadata": {
    "scrolled": true
   },
   "outputs": [
    {
     "data": {
      "text/plain": [
       "[<matplotlib.lines.Line2D at 0x7fdfef55b4c0>]"
      ]
     },
     "execution_count": 988,
     "metadata": {},
     "output_type": "execute_result"
    },
    {
     "data": {
      "image/png": "[encoded data removed]",
      "text/plain": [
       "<Figure size 432x288 with 1 Axes>"
      ]
     },
     "metadata": {
      "needs_background": "light"
     },
     "output_type": "display_data"
    }
   ],
   "source": [
    "G_init, M, system_hamiltonian, J, mg = simulate(0.1)\n",
    "t = np.arange(0, len(system_hamiltonian))\n",
    "plt.plot(t, mg)"
   ]
  },
  {
   "cell_type": "code",
   "execution_count": 986,
   "metadata": {},
   "outputs": [
    {
     "data": {
      "text/plain": [
       "array([[0, 0, 0, 1, 0, 0, 1, 1, 1, 0],\n",
       "       [1, 1, 1, 0, 1, 0, 1, 1, 0, 1],\n",
       "       [1, 1, 0, 1, 0, 1, 1, 1, 0, 1],\n",
       "       [0, 1, 1, 0, 0, 1, 0, 0, 0, 1],\n",
       "       [0, 0, 1, 1, 1, 1, 1, 1, 1, 1],\n",
       "       [0, 1, 0, 0, 0, 1, 1, 1, 0, 1],\n",
       "       [0, 0, 0, 1, 1, 1, 1, 0, 1, 1],\n",
       "       [1, 0, 0, 1, 0, 1, 0, 0, 0, 0],\n",
       "       [1, 1, 0, 0, 1, 0, 0, 0, 1, 0],\n",
       "       [1, 0, 1, 0, 0, 0, 1, 0, 0, 1]])"
      ]
     },
     "execution_count": 986,
     "metadata": {},
     "output_type": "execute_result"
    }
   ],
   "source": [
    "G_init.reshape(10,10)"
   ]
  },
  {
   "cell_type": "code",
   "execution_count": 987,
   "metadata": {},
   "outputs": [
    {
     "data": {
      "text/plain": [
       "array([[0, 0, 0, 0, 0, 0, 0, 0, 0, 0],\n",
       "       [0, 0, 0, 0, 0, 0, 0, 0, 0, 0],\n",
       "       [0, 0, 0, 0, 0, 0, 0, 0, 0, 0],\n",
       "       [0, 0, 0, 0, 0, 0, 0, 0, 0, 0],\n",
       "       [0, 0, 0, 0, 0, 0, 0, 0, 0, 0],\n",
       "       [0, 0, 0, 0, 0, 0, 0, 0, 0, 0],\n",
       "       [0, 0, 0, 0, 0, 0, 0, 0, 0, 0],\n",
       "       [0, 0, 0, 0, 0, 0, 0, 0, 0, 0],\n",
       "       [0, 0, 0, 0, 0, 0, 0, 0, 0, 0],\n",
       "       [0, 0, 0, 0, 0, 0, 0, 0, 0, 1]])"
      ]
     },
     "execution_count": 987,
     "metadata": {},
     "output_type": "execute_result"
    }
   ],
   "source": [
    "M.reshape(10,10)"
   ]
  },
  {
   "cell_type": "code",
   "execution_count": 979,
   "metadata": {
    "scrolled": true
   },
   "outputs": [
    {
     "data": {
      "text/plain": [
       "[<matplotlib.lines.Line2D at 0x7fdfedeebb20>]"
      ]
     },
     "execution_count": 979,
     "metadata": {},
     "output_type": "execute_result"
    },
    {
     "data": {
      "image/png": "[encoded data removed]",
      "text/plain": [
       "<Figure size 432x288 with 1 Axes>"
      ]
     },
     "metadata": {
      "needs_background": "light"
     },
     "output_type": "display_data"
    }
   ],
   "source": [
    "import matplotlib.pyplot as plt\n",
    "\n",
    "t = np.arange(0, len(system_hamiltonian))\n",
    "\n",
    "plt.plot(t, system_hamiltonian)"
   ]
  },
  {
   "cell_type": "code",
   "execution_count": 965,
   "metadata": {},
   "outputs": [],
   "source": [
    "# this does not work right yet, i think probability calculation is not right\n",
    "\n",
    "T = np.arange(0.001, 5, 1)\n",
    "\n",
    "magnets = []\n",
    "\n",
    "for temperature in T:\n",
    "    G_init, M, system_hamiltonian, J, mg = simulate(temperature)\n",
    "    magnets.append(mg[-1])"
   ]
  },
  {
   "cell_type": "code",
   "execution_count": 966,
   "metadata": {},
   "outputs": [
    {
     "data": {
      "text/plain": [
       "[<matplotlib.lines.Line2D at 0x7fdfee525340>]"
      ]
     },
     "execution_count": 966,
     "metadata": {},
     "output_type": "execute_result"
    },
    {
     "data": {
      "image/png": "[encoded data removed]",
      "text/plain": [
       "<Figure size 432x288 with 1 Axes>"
      ]
     },
     "metadata": {
      "needs_background": "light"
     },
     "output_type": "display_data"
    }
   ],
   "source": [
    "plt.plot(T, magnets)"
   ]
  },
  {
   "cell_type": "code",
   "execution_count": 982,
   "metadata": {},
   "outputs": [
    {
     "name": "stdout",
     "output_type": "stream",
     "text": [
      "1.0\n"
     ]
    },
    {
     "name": "stderr",
     "output_type": "stream",
     "text": [
      "<ipython-input-982-2f74cb99067b>:11: UserWarning: Matplotlib is currently using module://ipykernel.pylab.backend_inline, which is a non-GUI backend, so cannot show the figure.\n",
      "  fig.show()\n"
     ]
    },
    {
     "data": {
      "image/png": "[encoded data removed]",
      "text/plain": [
       "<Figure size 432x288 with 1 Axes>"
      ]
     },
     "metadata": {
      "needs_background": "light"
     },
     "output_type": "display_data"
    }
   ],
   "source": [
    "f = lambda beta, dE: np.exp(-beta * dE)\n",
    "T = 1\n",
    "beta = 1/ T\n",
    "print(beta)\n",
    "dE = np.linspace(-10, 10)\n",
    "\n",
    "fig, ax = plt.subplots()\n",
    "ax.plot(dE, f(dE, beta))\n",
    "ax.plot(dE, f(dE, beta))\n",
    "\n",
    "fig.show()"
   ]
  },
  {
   "cell_type": "code",
   "execution_count": null,
   "metadata": {},
   "outputs": [],
   "source": []
  }
 ],
 "metadata": {
  "kernelspec": {
   "display_name": "Python 3",
   "language": "python",
   "name": "python3"
  },
  "language_info": {
   "codemirror_mode": {
    "name": "ipython",
    "version": 3
   },
   "file_extension": ".py",
   "mimetype": "text/x-python",
   "name": "python",
   "nbconvert_exporter": "python",
   "pygments_lexer": "ipython3",
   "version": "3.8.3"
  }
 },
 "nbformat": 4,
 "nbformat_minor": 4
}
